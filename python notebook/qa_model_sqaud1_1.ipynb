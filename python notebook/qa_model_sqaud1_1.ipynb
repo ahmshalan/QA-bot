{
 "cells": [
  {
   "cell_type": "code",
   "execution_count": 1,
   "metadata": {
    "colab": {
     "base_uri": "https://localhost:8080/"
    },
    "id": "dbcI-vHz2L1o",
    "outputId": "ed3f45f4-9c59-4a7c-9932-ccea6de8184d"
   },
   "outputs": [
    {
     "name": "stdout",
     "output_type": "stream",
     "text": [
      "Collecting transformers\n",
      "\u001b[?25l  Downloading https://files.pythonhosted.org/packages/d5/43/cfe4ee779bbd6a678ac6a97c5a5cdeb03c35f9eaebbb9720b036680f9a2d/transformers-4.6.1-py3-none-any.whl (2.2MB)\n",
      "\u001b[K     |████████████████████████████████| 2.3MB 7.8MB/s \n",
      "\u001b[?25hCollecting tokenizers<0.11,>=0.10.1\n",
      "\u001b[?25l  Downloading https://files.pythonhosted.org/packages/d4/e2/df3543e8ffdab68f5acc73f613de9c2b155ac47f162e725dcac87c521c11/tokenizers-0.10.3-cp37-cp37m-manylinux_2_5_x86_64.manylinux1_x86_64.manylinux_2_12_x86_64.manylinux2010_x86_64.whl (3.3MB)\n",
      "\u001b[K     |████████████████████████████████| 3.3MB 17.0MB/s \n",
      "\u001b[?25hRequirement already satisfied: filelock in /usr/local/lib/python3.7/dist-packages (from transformers) (3.0.12)\n",
      "Requirement already satisfied: packaging in /usr/local/lib/python3.7/dist-packages (from transformers) (20.9)\n",
      "Requirement already satisfied: regex!=2019.12.17 in /usr/local/lib/python3.7/dist-packages (from transformers) (2019.12.20)\n",
      "Requirement already satisfied: requests in /usr/local/lib/python3.7/dist-packages (from transformers) (2.23.0)\n",
      "Requirement already satisfied: numpy>=1.17 in /usr/local/lib/python3.7/dist-packages (from transformers) (1.19.5)\n",
      "Collecting huggingface-hub==0.0.8\n",
      "  Downloading https://files.pythonhosted.org/packages/a1/88/7b1e45720ecf59c6c6737ff332f41c955963090a18e72acbcbeac6b25e86/huggingface_hub-0.0.8-py3-none-any.whl\n",
      "Collecting sacremoses\n",
      "\u001b[?25l  Downloading https://files.pythonhosted.org/packages/75/ee/67241dc87f266093c533a2d4d3d69438e57d7a90abb216fa076e7d475d4a/sacremoses-0.0.45-py3-none-any.whl (895kB)\n",
      "\u001b[K     |████████████████████████████████| 901kB 46.8MB/s \n",
      "\u001b[?25hRequirement already satisfied: tqdm>=4.27 in /usr/local/lib/python3.7/dist-packages (from transformers) (4.41.1)\n",
      "Requirement already satisfied: importlib-metadata; python_version < \"3.8\" in /usr/local/lib/python3.7/dist-packages (from transformers) (4.0.1)\n",
      "Requirement already satisfied: pyparsing>=2.0.2 in /usr/local/lib/python3.7/dist-packages (from packaging->transformers) (2.4.7)\n",
      "Requirement already satisfied: certifi>=2017.4.17 in /usr/local/lib/python3.7/dist-packages (from requests->transformers) (2020.12.5)\n",
      "Requirement already satisfied: urllib3!=1.25.0,!=1.25.1,<1.26,>=1.21.1 in /usr/local/lib/python3.7/dist-packages (from requests->transformers) (1.24.3)\n",
      "Requirement already satisfied: idna<3,>=2.5 in /usr/local/lib/python3.7/dist-packages (from requests->transformers) (2.10)\n",
      "Requirement already satisfied: chardet<4,>=3.0.2 in /usr/local/lib/python3.7/dist-packages (from requests->transformers) (3.0.4)\n",
      "Requirement already satisfied: six in /usr/local/lib/python3.7/dist-packages (from sacremoses->transformers) (1.15.0)\n",
      "Requirement already satisfied: click in /usr/local/lib/python3.7/dist-packages (from sacremoses->transformers) (7.1.2)\n",
      "Requirement already satisfied: joblib in /usr/local/lib/python3.7/dist-packages (from sacremoses->transformers) (1.0.1)\n",
      "Requirement already satisfied: typing-extensions>=3.6.4; python_version < \"3.8\" in /usr/local/lib/python3.7/dist-packages (from importlib-metadata; python_version < \"3.8\"->transformers) (3.7.4.3)\n",
      "Requirement already satisfied: zipp>=0.5 in /usr/local/lib/python3.7/dist-packages (from importlib-metadata; python_version < \"3.8\"->transformers) (3.4.1)\n",
      "Installing collected packages: tokenizers, huggingface-hub, sacremoses, transformers\n",
      "Successfully installed huggingface-hub-0.0.8 sacremoses-0.0.45 tokenizers-0.10.3 transformers-4.6.1\n"
     ]
    }
   ],
   "source": [
    "!pip install transformers"
   ]
  },
  {
   "cell_type": "markdown",
   "metadata": {
    "id": "o-B8WtMvvXvw"
   },
   "source": [
    "# Importing the needed libraries"
   ]
  },
  {
   "cell_type": "code",
   "execution_count": 32,
   "metadata": {
    "execution": {
     "iopub.execute_input": "2021-06-08T02:44:53.143707Z",
     "iopub.status.busy": "2021-06-08T02:44:53.14336Z",
     "iopub.status.idle": "2021-06-08T02:44:53.1508Z",
     "shell.execute_reply": "2021-06-08T02:44:53.14825Z",
     "shell.execute_reply.started": "2021-06-08T02:44:53.143678Z"
    },
    "id": "peFeTzXsJvpt"
   },
   "outputs": [],
   "source": [
    "import pandas as pd\n",
    "import numpy as np\n",
    "import json\n",
    "\n",
    "from transformers import AutoTokenizer, AutoModelForQuestionAnswering\n",
    "from transformers import AdamW\n",
    "from transformers import get_linear_schedule_with_warmup\n",
    "\n",
    "from sklearn.model_selection import train_test_split\n",
    "from sklearn.preprocessing import LabelEncoder\n",
    "from sklearn.metrics import  f1_score\n",
    "\n",
    "import torch\n",
    "import torch.nn as nn\n",
    "from torch.utils.data import DataLoader\n",
    "from torch.utils.tensorboard import SummaryWriter\n",
    "\n",
    "import warnings\n",
    "warnings.simplefilter('ignore')\n",
    "\n",
    "import gc\n"
   ]
  },
  {
   "cell_type": "code",
   "execution_count": 4,
   "metadata": {
    "execution": {
     "iopub.execute_input": "2021-06-07T22:36:30.727269Z",
     "iopub.status.busy": "2021-06-07T22:36:30.726953Z",
     "iopub.status.idle": "2021-06-07T22:36:30.732919Z",
     "shell.execute_reply": "2021-06-07T22:36:30.731201Z",
     "shell.execute_reply.started": "2021-06-07T22:36:30.727234Z"
    },
    "id": "vOZS_ai8Twsi"
   },
   "outputs": [],
   "source": [
    "MAX_LEN =  512\n",
    "EPOCHS = 5\n",
    "MODEL = 'distilroberta-base'\n",
    "BATCH_SIZE = 16"
   ]
  },
  {
   "cell_type": "markdown",
   "metadata": {
    "id": "SEZVfy6AKOH1"
   },
   "source": [
    "# Data"
   ]
  },
  {
   "cell_type": "markdown",
   "metadata": {
    "id": "iHlyqVnKTenQ"
   },
   "source": [
    "### Download and Restructure Dataset"
   ]
  },
  {
   "cell_type": "code",
   "execution_count": 5,
   "metadata": {
    "colab": {
     "base_uri": "https://localhost:8080/"
    },
    "execution": {
     "iopub.execute_input": "2021-06-07T22:19:21.090011Z",
     "iopub.status.busy": "2021-06-07T22:19:21.089482Z",
     "iopub.status.idle": "2021-06-07T22:19:23.109815Z",
     "shell.execute_reply": "2021-06-07T22:19:23.108833Z",
     "shell.execute_reply.started": "2021-06-07T22:19:21.089976Z"
    },
    "id": "RPyRCPfL3-sS",
    "outputId": "b776ded4-e7ce-4be0-a6cd-4a3114ae1672"
   },
   "outputs": [
    {
     "name": "stdout",
     "output_type": "stream",
     "text": [
      "--2021-06-11 17:25:00--  https://data.deepai.org/squad1.1.zip\n",
      "Resolving data.deepai.org (data.deepai.org)... 138.201.36.183\n",
      "Connecting to data.deepai.org (data.deepai.org)|138.201.36.183|:443... connected.\n",
      "HTTP request sent, awaiting response... 200 OK\n",
      "Length: 9152254 (8.7M) [application/x-zip-compressed]\n",
      "Saving to: ‘squad1.1.zip’\n",
      "\n",
      "squad1.1.zip        100%[===================>]   8.73M  7.53MB/s    in 1.2s    \n",
      "\n",
      "2021-06-11 17:25:02 (7.53 MB/s) - ‘squad1.1.zip’ saved [9152254/9152254]\n",
      "\n"
     ]
    }
   ],
   "source": [
    "!wget https://data.deepai.org/squad1.1.zip"
   ]
  },
  {
   "cell_type": "code",
   "execution_count": 6,
   "metadata": {
    "colab": {
     "base_uri": "https://localhost:8080/"
    },
    "execution": {
     "iopub.execute_input": "2021-06-07T22:19:23.111892Z",
     "iopub.status.busy": "2021-06-07T22:19:23.111557Z",
     "iopub.status.idle": "2021-06-07T22:19:24.011376Z",
     "shell.execute_reply": "2021-06-07T22:19:24.01018Z",
     "shell.execute_reply.started": "2021-06-07T22:19:23.111854Z"
    },
    "id": "HQqUBWImEx9J",
    "outputId": "a4474d0a-6413-4d4e-8a22-d72df363f38d"
   },
   "outputs": [
    {
     "name": "stdout",
     "output_type": "stream",
     "text": [
      "Archive:  squad1.1.zip\n",
      "  inflating: dev-v1.1.json           \n",
      "  inflating: train-v1.1.json         \n"
     ]
    }
   ],
   "source": [
    "!unzip squad1.1.zip"
   ]
  },
  {
   "cell_type": "code",
   "execution_count": 7,
   "metadata": {
    "execution": {
     "iopub.execute_input": "2021-06-07T22:36:30.735382Z",
     "iopub.status.busy": "2021-06-07T22:36:30.734953Z",
     "iopub.status.idle": "2021-06-07T22:36:31.545906Z",
     "shell.execute_reply": "2021-06-07T22:36:31.545025Z",
     "shell.execute_reply.started": "2021-06-07T22:36:30.73534Z"
    },
    "id": "mO0ohiaRzxIe"
   },
   "outputs": [],
   "source": [
    "with open('train-v1.1.json','rb') as f:\n",
    "    train = json.load(f)['data']\n",
    "\n",
    "with open('dev-v1.1.json','rb') as f:\n",
    "    test = json.load(f)['data']"
   ]
  },
  {
   "cell_type": "markdown",
   "metadata": {
    "id": "4Mm7RVrevXv5"
   },
   "source": [
    "## Helper Functions"
   ]
  },
  {
   "cell_type": "code",
   "execution_count": 17,
   "metadata": {
    "execution": {
     "iopub.execute_input": "2021-06-07T22:36:35.965073Z",
     "iopub.status.busy": "2021-06-07T22:36:35.964611Z",
     "iopub.status.idle": "2021-06-07T22:36:35.973595Z",
     "shell.execute_reply": "2021-06-07T22:36:35.972425Z",
     "shell.execute_reply.started": "2021-06-07T22:36:35.965026Z"
    },
    "id": "tSvhEa0R1MnB"
   },
   "outputs": [],
   "source": [
    "def preprocess_dataset(temp):\n",
    "  context = [] \n",
    "  answer_start = [] \n",
    "  answer_end = []\n",
    "  answer_text = [] \n",
    "  question = [] \n",
    "\n",
    "  ## \n",
    "  for i in temp:\n",
    "    for z in i['paragraphs']:\n",
    "      for ans in z['qas']:\n",
    "        for k in ans['answers']:\n",
    "          answer_start.append(k['answer_start'])\n",
    "          answer_text.append(k['text'])\n",
    "          answer_end.append(len(k['text']) + k['answer_start'])\n",
    "          context.append(z['context'])\n",
    "          question.append(ans['question'])\n",
    "\n",
    "  return {'question':question,'context':context,'answer_text':answer_text,'answer_start':answer_start,'answer_end':answer_end}\n",
    "\n",
    "\n"
   ]
  },
  {
   "cell_type": "code",
   "execution_count": 18,
   "metadata": {
    "execution": {
     "iopub.execute_input": "2021-06-07T22:36:36.119549Z",
     "iopub.status.busy": "2021-06-07T22:36:36.119233Z",
     "iopub.status.idle": "2021-06-07T22:36:36.130155Z",
     "shell.execute_reply": "2021-06-07T22:36:36.129156Z",
     "shell.execute_reply.started": "2021-06-07T22:36:36.11952Z"
    },
    "id": "T6qBkV3AvXv5"
   },
   "outputs": [],
   "source": [
    "def prepare_train_features(examples):\n",
    "    \n",
    "    tokenized_examples = tokenizer(\n",
    "        examples[\"question\"],\n",
    "        examples[\"context\"],\n",
    "        truncation = 'only_second',\n",
    "        max_length=MAX_LEN,\n",
    "        return_overflowing_tokens=True,\n",
    "        return_offsets_mapping=True,\n",
    "        padding=\"max_length\",\n",
    "        is_split_into_words=False\n",
    "    )\n",
    "\n",
    "    sample_mapping = tokenized_examples.pop(\"overflow_to_sample_mapping\")\n",
    "    offset_mapping = tokenized_examples.pop(\"offset_mapping\")\n",
    "    \n",
    "\n",
    "    tokenized_examples[\"start_positions\"] = []\n",
    "    tokenized_examples[\"end_positions\"] = []\n",
    "    \n",
    "    for i, offsets in enumerate(offset_mapping):\n",
    "        \n",
    "        input_ids = tokenized_examples[\"input_ids\"][i]\n",
    "        cls_index = input_ids.index(tokenizer.cls_token_id)\n",
    "\n",
    "      \n",
    "        sequence_ids = tokenized_examples.sequence_ids(i)\n",
    "\n",
    "\n",
    "        sample_index = sample_mapping[i]\n",
    "        \n",
    "        answers = examples[\"answer_start\"][sample_index]\n",
    "        text = examples[\"answer_text\"][sample_index]\n",
    "\n",
    "        \n",
    "        # Start/end character index of the answer in the text.\n",
    "        start_char = answers\n",
    "        end_char = start_char + len(text) \n",
    "        \n",
    "\n",
    "        # Start token index of the context text.\n",
    "        token_start_index = 0\n",
    "        while sequence_ids[token_start_index] != 1:\n",
    "            token_start_index += 1\n",
    "        \n",
    "          \n",
    "        \n",
    "        # End token index of the context text.\n",
    "        token_end_index = len(input_ids) - 1\n",
    "        while sequence_ids[token_end_index] != 1 :\n",
    "            token_end_index -= 1\n",
    "\n",
    "        # Detect if the answer is out of the context (in which case this feature is labeled with the CLS index).\n",
    "        if not (offsets[token_start_index][0] <= start_char and offsets[token_end_index][1] >= end_char):\n",
    "            tokenized_examples[\"start_positions\"].append(cls_index)\n",
    "            tokenized_examples[\"end_positions\"].append(cls_index)\n",
    "        else:\n",
    "            # Otherwise move the token_start_index and token_end_index to the two ends of the answer.\n",
    "            while token_start_index < len(offsets) and offsets[token_start_index][0] <= start_char:\n",
    "                token_start_index += 1\n",
    "            tokenized_examples[\"start_positions\"].append(token_start_index - 1)\n",
    "            while offsets[token_end_index][1] >= end_char:\n",
    "                token_end_index -= 1\n",
    "            tokenized_examples[\"end_positions\"].append(token_end_index + 1)\n",
    "        \n",
    "\n",
    "    return tokenized_examples"
   ]
  },
  {
   "cell_type": "code",
   "execution_count": 19,
   "metadata": {
    "execution": {
     "iopub.execute_input": "2021-06-07T22:36:39.342932Z",
     "iopub.status.busy": "2021-06-07T22:36:39.342598Z",
     "iopub.status.idle": "2021-06-07T22:36:39.482732Z",
     "shell.execute_reply": "2021-06-07T22:36:39.481853Z",
     "shell.execute_reply.started": "2021-06-07T22:36:39.342903Z"
    },
    "id": "hxz2iz49PoiF"
   },
   "outputs": [],
   "source": [
    "train = preprocess_dataset(train)\n",
    "test = preprocess_dataset(test)"
   ]
  },
  {
   "cell_type": "code",
   "execution_count": 20,
   "metadata": {
    "execution": {
     "iopub.execute_input": "2021-06-07T22:36:39.484557Z",
     "iopub.status.busy": "2021-06-07T22:36:39.484174Z",
     "iopub.status.idle": "2021-06-07T22:36:39.631109Z",
     "shell.execute_reply": "2021-06-07T22:36:39.630208Z",
     "shell.execute_reply.started": "2021-06-07T22:36:39.484526Z"
    },
    "id": "FjrbBIFJ1ppU"
   },
   "outputs": [],
   "source": [
    "train_df = pd.DataFrame(train)\n",
    "test_df = pd.DataFrame(test)"
   ]
  },
  {
   "cell_type": "code",
   "execution_count": 67,
   "metadata": {
    "colab": {
     "base_uri": "https://localhost:8080/",
     "height": 416
    },
    "execution": {
     "iopub.execute_input": "2021-06-07T22:36:39.633478Z",
     "iopub.status.busy": "2021-06-07T22:36:39.632975Z",
     "iopub.status.idle": "2021-06-07T22:36:39.672535Z",
     "shell.execute_reply": "2021-06-07T22:36:39.671709Z",
     "shell.execute_reply.started": "2021-06-07T22:36:39.633438Z"
    },
    "id": "2CTaEURijWPK",
    "outputId": "27a82306-495b-4866-bacc-d36ca63b5ced"
   },
   "outputs": [
    {
     "data": {
      "text/html": [
       "<div>\n",
       "<style scoped>\n",
       "    .dataframe tbody tr th:only-of-type {\n",
       "        vertical-align: middle;\n",
       "    }\n",
       "\n",
       "    .dataframe tbody tr th {\n",
       "        vertical-align: top;\n",
       "    }\n",
       "\n",
       "    .dataframe thead th {\n",
       "        text-align: right;\n",
       "    }\n",
       "</style>\n",
       "<table border=\"1\" class=\"dataframe\">\n",
       "  <thead>\n",
       "    <tr style=\"text-align: right;\">\n",
       "      <th></th>\n",
       "      <th>question</th>\n",
       "      <th>context</th>\n",
       "      <th>answer_text</th>\n",
       "      <th>answer_start</th>\n",
       "      <th>answer_end</th>\n",
       "    </tr>\n",
       "  </thead>\n",
       "  <tbody>\n",
       "    <tr>\n",
       "      <th>0</th>\n",
       "      <td>To whom did the Virgin Mary allegedly appear i...</td>\n",
       "      <td>Architecturally, the school has a Catholic cha...</td>\n",
       "      <td>Saint Bernadette Soubirous</td>\n",
       "      <td>515</td>\n",
       "      <td>541</td>\n",
       "    </tr>\n",
       "    <tr>\n",
       "      <th>1</th>\n",
       "      <td>What is in front of the Notre Dame Main Building?</td>\n",
       "      <td>Architecturally, the school has a Catholic cha...</td>\n",
       "      <td>a copper statue of Christ</td>\n",
       "      <td>188</td>\n",
       "      <td>213</td>\n",
       "    </tr>\n",
       "    <tr>\n",
       "      <th>2</th>\n",
       "      <td>The Basilica of the Sacred heart at Notre Dame...</td>\n",
       "      <td>Architecturally, the school has a Catholic cha...</td>\n",
       "      <td>the Main Building</td>\n",
       "      <td>279</td>\n",
       "      <td>296</td>\n",
       "    </tr>\n",
       "    <tr>\n",
       "      <th>3</th>\n",
       "      <td>What is the Grotto at Notre Dame?</td>\n",
       "      <td>Architecturally, the school has a Catholic cha...</td>\n",
       "      <td>a Marian place of prayer and reflection</td>\n",
       "      <td>381</td>\n",
       "      <td>420</td>\n",
       "    </tr>\n",
       "    <tr>\n",
       "      <th>4</th>\n",
       "      <td>What sits on top of the Main Building at Notre...</td>\n",
       "      <td>Architecturally, the school has a Catholic cha...</td>\n",
       "      <td>a golden statue of the Virgin Mary</td>\n",
       "      <td>92</td>\n",
       "      <td>126</td>\n",
       "    </tr>\n",
       "    <tr>\n",
       "      <th>...</th>\n",
       "      <td>...</td>\n",
       "      <td>...</td>\n",
       "      <td>...</td>\n",
       "      <td>...</td>\n",
       "      <td>...</td>\n",
       "    </tr>\n",
       "    <tr>\n",
       "      <th>87594</th>\n",
       "      <td>In what US state did Kathmandu first establish...</td>\n",
       "      <td>Kathmandu Metropolitan City (KMC), in order to...</td>\n",
       "      <td>Oregon</td>\n",
       "      <td>229</td>\n",
       "      <td>235</td>\n",
       "    </tr>\n",
       "    <tr>\n",
       "      <th>87595</th>\n",
       "      <td>What was Yangon previously known as?</td>\n",
       "      <td>Kathmandu Metropolitan City (KMC), in order to...</td>\n",
       "      <td>Rangoon</td>\n",
       "      <td>414</td>\n",
       "      <td>421</td>\n",
       "    </tr>\n",
       "    <tr>\n",
       "      <th>87596</th>\n",
       "      <td>With what Belorussian city does Kathmandu have...</td>\n",
       "      <td>Kathmandu Metropolitan City (KMC), in order to...</td>\n",
       "      <td>Minsk</td>\n",
       "      <td>476</td>\n",
       "      <td>481</td>\n",
       "    </tr>\n",
       "    <tr>\n",
       "      <th>87597</th>\n",
       "      <td>In what year did Kathmandu create its initial ...</td>\n",
       "      <td>Kathmandu Metropolitan City (KMC), in order to...</td>\n",
       "      <td>1975</td>\n",
       "      <td>199</td>\n",
       "      <td>203</td>\n",
       "    </tr>\n",
       "    <tr>\n",
       "      <th>87598</th>\n",
       "      <td>What is KMC an initialism of?</td>\n",
       "      <td>Kathmandu Metropolitan City (KMC), in order to...</td>\n",
       "      <td>Kathmandu Metropolitan City</td>\n",
       "      <td>0</td>\n",
       "      <td>27</td>\n",
       "    </tr>\n",
       "  </tbody>\n",
       "</table>\n",
       "<p>87599 rows × 5 columns</p>\n",
       "</div>"
      ],
      "text/plain": [
       "                                                question  ... answer_end\n",
       "0      To whom did the Virgin Mary allegedly appear i...  ...        541\n",
       "1      What is in front of the Notre Dame Main Building?  ...        213\n",
       "2      The Basilica of the Sacred heart at Notre Dame...  ...        296\n",
       "3                      What is the Grotto at Notre Dame?  ...        420\n",
       "4      What sits on top of the Main Building at Notre...  ...        126\n",
       "...                                                  ...  ...        ...\n",
       "87594  In what US state did Kathmandu first establish...  ...        235\n",
       "87595               What was Yangon previously known as?  ...        421\n",
       "87596  With what Belorussian city does Kathmandu have...  ...        481\n",
       "87597  In what year did Kathmandu create its initial ...  ...        203\n",
       "87598                      What is KMC an initialism of?  ...         27\n",
       "\n",
       "[87599 rows x 5 columns]"
      ]
     },
     "execution_count": 67,
     "metadata": {
      "tags": []
     },
     "output_type": "execute_result"
    }
   ],
   "source": [
    "train_df"
   ]
  },
  {
   "cell_type": "code",
   "execution_count": 68,
   "metadata": {
    "colab": {
     "base_uri": "https://localhost:8080/",
     "height": 416
    },
    "execution": {
     "iopub.execute_input": "2021-06-07T22:36:39.673931Z",
     "iopub.status.busy": "2021-06-07T22:36:39.673658Z",
     "iopub.status.idle": "2021-06-07T22:36:39.69098Z",
     "shell.execute_reply": "2021-06-07T22:36:39.690245Z",
     "shell.execute_reply.started": "2021-06-07T22:36:39.673888Z"
    },
    "id": "LbmTCLiPvXv7",
    "outputId": "3b7e95de-1bf9-4a0c-b399-39c39df1aa56"
   },
   "outputs": [
    {
     "data": {
      "text/html": [
       "<div>\n",
       "<style scoped>\n",
       "    .dataframe tbody tr th:only-of-type {\n",
       "        vertical-align: middle;\n",
       "    }\n",
       "\n",
       "    .dataframe tbody tr th {\n",
       "        vertical-align: top;\n",
       "    }\n",
       "\n",
       "    .dataframe thead th {\n",
       "        text-align: right;\n",
       "    }\n",
       "</style>\n",
       "<table border=\"1\" class=\"dataframe\">\n",
       "  <thead>\n",
       "    <tr style=\"text-align: right;\">\n",
       "      <th></th>\n",
       "      <th>question</th>\n",
       "      <th>context</th>\n",
       "      <th>answer_text</th>\n",
       "      <th>answer_start</th>\n",
       "      <th>answer_end</th>\n",
       "    </tr>\n",
       "  </thead>\n",
       "  <tbody>\n",
       "    <tr>\n",
       "      <th>0</th>\n",
       "      <td>Which NFL team represented the AFC at Super Bo...</td>\n",
       "      <td>Super Bowl 50 was an American football game to...</td>\n",
       "      <td>Denver Broncos</td>\n",
       "      <td>177</td>\n",
       "      <td>191</td>\n",
       "    </tr>\n",
       "    <tr>\n",
       "      <th>3</th>\n",
       "      <td>Which NFL team represented the NFC at Super Bo...</td>\n",
       "      <td>Super Bowl 50 was an American football game to...</td>\n",
       "      <td>Carolina Panthers</td>\n",
       "      <td>249</td>\n",
       "      <td>266</td>\n",
       "    </tr>\n",
       "    <tr>\n",
       "      <th>6</th>\n",
       "      <td>Where did Super Bowl 50 take place?</td>\n",
       "      <td>Super Bowl 50 was an American football game to...</td>\n",
       "      <td>Santa Clara, California</td>\n",
       "      <td>403</td>\n",
       "      <td>426</td>\n",
       "    </tr>\n",
       "    <tr>\n",
       "      <th>7</th>\n",
       "      <td>Where did Super Bowl 50 take place?</td>\n",
       "      <td>Super Bowl 50 was an American football game to...</td>\n",
       "      <td>Levi's Stadium</td>\n",
       "      <td>355</td>\n",
       "      <td>369</td>\n",
       "    </tr>\n",
       "    <tr>\n",
       "      <th>8</th>\n",
       "      <td>Where did Super Bowl 50 take place?</td>\n",
       "      <td>Super Bowl 50 was an American football game to...</td>\n",
       "      <td>Levi's Stadium in the San Francisco Bay Area a...</td>\n",
       "      <td>355</td>\n",
       "      <td>427</td>\n",
       "    </tr>\n",
       "    <tr>\n",
       "      <th>...</th>\n",
       "      <td>...</td>\n",
       "      <td>...</td>\n",
       "      <td>...</td>\n",
       "      <td>...</td>\n",
       "      <td>...</td>\n",
       "    </tr>\n",
       "    <tr>\n",
       "      <th>34711</th>\n",
       "      <td>What is a very seldom used unit of mass in the...</td>\n",
       "      <td>The pound-force has a metric counterpart, less...</td>\n",
       "      <td>slug</td>\n",
       "      <td>274</td>\n",
       "      <td>278</td>\n",
       "    </tr>\n",
       "    <tr>\n",
       "      <th>34712</th>\n",
       "      <td>What is a very seldom used unit of mass in the...</td>\n",
       "      <td>The pound-force has a metric counterpart, less...</td>\n",
       "      <td>metric slug</td>\n",
       "      <td>267</td>\n",
       "      <td>278</td>\n",
       "    </tr>\n",
       "    <tr>\n",
       "      <th>34715</th>\n",
       "      <td>What is a very seldom used unit of mass in the...</td>\n",
       "      <td>The pound-force has a metric counterpart, less...</td>\n",
       "      <td>the metric slug</td>\n",
       "      <td>263</td>\n",
       "      <td>278</td>\n",
       "    </tr>\n",
       "    <tr>\n",
       "      <th>34716</th>\n",
       "      <td>What seldom used term of a unit of force equal...</td>\n",
       "      <td>The pound-force has a metric counterpart, less...</td>\n",
       "      <td>kip</td>\n",
       "      <td>712</td>\n",
       "      <td>715</td>\n",
       "    </tr>\n",
       "    <tr>\n",
       "      <th>34721</th>\n",
       "      <td>What is the seldom used force unit equal to on...</td>\n",
       "      <td>The pound-force has a metric counterpart, less...</td>\n",
       "      <td>sthène</td>\n",
       "      <td>665</td>\n",
       "      <td>671</td>\n",
       "    </tr>\n",
       "  </tbody>\n",
       "</table>\n",
       "<p>18162 rows × 5 columns</p>\n",
       "</div>"
      ],
      "text/plain": [
       "                                                question  ... answer_end\n",
       "0      Which NFL team represented the AFC at Super Bo...  ...        191\n",
       "3      Which NFL team represented the NFC at Super Bo...  ...        266\n",
       "6                    Where did Super Bowl 50 take place?  ...        426\n",
       "7                    Where did Super Bowl 50 take place?  ...        369\n",
       "8                    Where did Super Bowl 50 take place?  ...        427\n",
       "...                                                  ...  ...        ...\n",
       "34711  What is a very seldom used unit of mass in the...  ...        278\n",
       "34712  What is a very seldom used unit of mass in the...  ...        278\n",
       "34715  What is a very seldom used unit of mass in the...  ...        278\n",
       "34716  What seldom used term of a unit of force equal...  ...        715\n",
       "34721  What is the seldom used force unit equal to on...  ...        671\n",
       "\n",
       "[18162 rows x 5 columns]"
      ]
     },
     "execution_count": 68,
     "metadata": {
      "tags": []
     },
     "output_type": "execute_result"
    }
   ],
   "source": [
    "test_df"
   ]
  },
  {
   "cell_type": "code",
   "execution_count": 69,
   "metadata": {
    "colab": {
     "base_uri": "https://localhost:8080/"
    },
    "execution": {
     "iopub.execute_input": "2021-06-07T22:36:40.017583Z",
     "iopub.status.busy": "2021-06-07T22:36:40.017231Z",
     "iopub.status.idle": "2021-06-07T22:36:40.057992Z",
     "shell.execute_reply": "2021-06-07T22:36:40.056944Z",
     "shell.execute_reply.started": "2021-06-07T22:36:40.017552Z"
    },
    "id": "cD1Cya-RvXv7",
    "outputId": "5def4b59-2035-4a4a-d553-3f321ec95a72"
   },
   "outputs": [
    {
     "name": "stdout",
     "output_type": "stream",
     "text": [
      "<class 'pandas.core.frame.DataFrame'>\n",
      "RangeIndex: 87599 entries, 0 to 87598\n",
      "Data columns (total 5 columns):\n",
      " #   Column        Non-Null Count  Dtype \n",
      "---  ------        --------------  ----- \n",
      " 0   question      87599 non-null  string\n",
      " 1   context       87599 non-null  string\n",
      " 2   answer_text   87599 non-null  string\n",
      " 3   answer_start  87599 non-null  int32 \n",
      " 4   answer_end    87599 non-null  int32 \n",
      "dtypes: int32(2), string(3)\n",
      "memory usage: 2.7 MB\n"
     ]
    }
   ],
   "source": [
    "train_df.info()"
   ]
  },
  {
   "cell_type": "code",
   "execution_count": 70,
   "metadata": {
    "colab": {
     "base_uri": "https://localhost:8080/"
    },
    "execution": {
     "iopub.execute_input": "2021-06-07T22:36:40.213706Z",
     "iopub.status.busy": "2021-06-07T22:36:40.213433Z",
     "iopub.status.idle": "2021-06-07T22:36:40.235295Z",
     "shell.execute_reply": "2021-06-07T22:36:40.233784Z",
     "shell.execute_reply.started": "2021-06-07T22:36:40.21368Z"
    },
    "id": "wHrKX9yRvXv8",
    "outputId": "4c1043d8-ea50-405a-d81e-72f80638eb3d"
   },
   "outputs": [
    {
     "name": "stdout",
     "output_type": "stream",
     "text": [
      "<class 'pandas.core.frame.DataFrame'>\n",
      "Int64Index: 18162 entries, 0 to 34721\n",
      "Data columns (total 5 columns):\n",
      " #   Column        Non-Null Count  Dtype \n",
      "---  ------        --------------  ----- \n",
      " 0   question      18162 non-null  string\n",
      " 1   context       18162 non-null  string\n",
      " 2   answer_text   18162 non-null  string\n",
      " 3   answer_start  18162 non-null  int32 \n",
      " 4   answer_end    18162 non-null  int32 \n",
      "dtypes: int32(2), string(3)\n",
      "memory usage: 709.5 KB\n"
     ]
    }
   ],
   "source": [
    "test_df.info()"
   ]
  },
  {
   "cell_type": "code",
   "execution_count": 71,
   "metadata": {
    "execution": {
     "iopub.execute_input": "2021-06-07T22:36:41.233641Z",
     "iopub.status.busy": "2021-06-07T22:36:41.233257Z",
     "iopub.status.idle": "2021-06-07T22:36:41.343203Z",
     "shell.execute_reply": "2021-06-07T22:36:41.342369Z",
     "shell.execute_reply.started": "2021-06-07T22:36:41.233606Z"
    },
    "id": "ab_XcgEnvXv8"
   },
   "outputs": [],
   "source": [
    "train_df = train_df.astype({'question':'string','context':'string','answer_text':'string','answer_start':'int32','answer_end':'int32'})\n",
    "test_df = test_df.astype({'question':'string','context':'string','answer_text':'string','answer_start':'int32','answer_end':'int32'})"
   ]
  },
  {
   "cell_type": "code",
   "execution_count": 72,
   "metadata": {
    "colab": {
     "base_uri": "https://localhost:8080/"
    },
    "execution": {
     "iopub.execute_input": "2021-06-07T22:36:41.40972Z",
     "iopub.status.busy": "2021-06-07T22:36:41.409412Z",
     "iopub.status.idle": "2021-06-07T22:36:41.446943Z",
     "shell.execute_reply": "2021-06-07T22:36:41.445929Z",
     "shell.execute_reply.started": "2021-06-07T22:36:41.40969Z"
    },
    "id": "vfw5chtMvXv8",
    "outputId": "e1648e3c-cc1d-4dd9-db93-1a41f4783202"
   },
   "outputs": [
    {
     "name": "stdout",
     "output_type": "stream",
     "text": [
      "<class 'pandas.core.frame.DataFrame'>\n",
      "RangeIndex: 87599 entries, 0 to 87598\n",
      "Data columns (total 5 columns):\n",
      " #   Column        Non-Null Count  Dtype \n",
      "---  ------        --------------  ----- \n",
      " 0   question      87599 non-null  string\n",
      " 1   context       87599 non-null  string\n",
      " 2   answer_text   87599 non-null  string\n",
      " 3   answer_start  87599 non-null  int32 \n",
      " 4   answer_end    87599 non-null  int32 \n",
      "dtypes: int32(2), string(3)\n",
      "memory usage: 2.7 MB\n"
     ]
    }
   ],
   "source": [
    "train_df.info()"
   ]
  },
  {
   "cell_type": "code",
   "execution_count": 73,
   "metadata": {
    "colab": {
     "base_uri": "https://localhost:8080/"
    },
    "execution": {
     "iopub.execute_input": "2021-06-07T22:36:43.330396Z",
     "iopub.status.busy": "2021-06-07T22:36:43.330042Z",
     "iopub.status.idle": "2021-06-07T22:36:43.353642Z",
     "shell.execute_reply": "2021-06-07T22:36:43.352633Z",
     "shell.execute_reply.started": "2021-06-07T22:36:43.330358Z"
    },
    "id": "AFpXfRH3vXv8",
    "outputId": "9a32a6e9-ca87-4f8a-aac2-679a1c72cc6b"
   },
   "outputs": [
    {
     "name": "stdout",
     "output_type": "stream",
     "text": [
      "<class 'pandas.core.frame.DataFrame'>\n",
      "Int64Index: 18162 entries, 0 to 34721\n",
      "Data columns (total 5 columns):\n",
      " #   Column        Non-Null Count  Dtype \n",
      "---  ------        --------------  ----- \n",
      " 0   question      18162 non-null  string\n",
      " 1   context       18162 non-null  string\n",
      " 2   answer_text   18162 non-null  string\n",
      " 3   answer_start  18162 non-null  int32 \n",
      " 4   answer_end    18162 non-null  int32 \n",
      "dtypes: int32(2), string(3)\n",
      "memory usage: 709.5 KB\n"
     ]
    }
   ],
   "source": [
    "test_df.info()"
   ]
  },
  {
   "cell_type": "code",
   "execution_count": 74,
   "metadata": {
    "execution": {
     "iopub.execute_input": "2021-06-07T22:38:51.179255Z",
     "iopub.status.busy": "2021-06-07T22:38:51.178875Z",
     "iopub.status.idle": "2021-06-07T22:38:51.211556Z",
     "shell.execute_reply": "2021-06-07T22:38:51.210612Z",
     "shell.execute_reply.started": "2021-06-07T22:38:51.179222Z"
    },
    "id": "8PbGbCuMvXv9"
   },
   "outputs": [],
   "source": [
    "train_df = train_df.sample(70000)"
   ]
  },
  {
   "cell_type": "code",
   "execution_count": 75,
   "metadata": {
    "execution": {
     "iopub.execute_input": "2021-06-07T22:38:58.799689Z",
     "iopub.status.busy": "2021-06-07T22:38:58.799312Z",
     "iopub.status.idle": "2021-06-07T22:38:58.920016Z",
     "shell.execute_reply": "2021-06-07T22:38:58.918954Z",
     "shell.execute_reply.started": "2021-06-07T22:38:58.799654Z"
    },
    "id": "VlWJaE3JFyuV"
   },
   "outputs": [],
   "source": [
    "df_obj = train_df.select_dtypes(['string'])\n",
    "train_df[df_obj.columns] = df_obj.apply(lambda x: x.str.strip())"
   ]
  },
  {
   "cell_type": "code",
   "execution_count": 76,
   "metadata": {
    "execution": {
     "iopub.execute_input": "2021-06-07T22:39:01.03283Z",
     "iopub.status.busy": "2021-06-07T22:39:01.032486Z",
     "iopub.status.idle": "2021-06-07T22:39:01.078428Z",
     "shell.execute_reply": "2021-06-07T22:39:01.077592Z",
     "shell.execute_reply.started": "2021-06-07T22:39:01.0328Z"
    },
    "id": "6Mkt69rZvXv-"
   },
   "outputs": [],
   "source": [
    "df_obj = test_df.select_dtypes(['string'])\n",
    "test_df[df_obj.columns] = df_obj.apply(lambda x: x.str.strip())"
   ]
  },
  {
   "cell_type": "markdown",
   "metadata": {
    "id": "f6I2tcOHTYl3"
   },
   "source": [
    "### Tokenize dataset"
   ]
  },
  {
   "cell_type": "code",
   "execution_count": 77,
   "metadata": {
    "execution": {
     "iopub.execute_input": "2021-06-07T22:39:02.347872Z",
     "iopub.status.busy": "2021-06-07T22:39:02.347529Z",
     "iopub.status.idle": "2021-06-07T22:39:02.954447Z",
     "shell.execute_reply": "2021-06-07T22:39:02.95352Z",
     "shell.execute_reply.started": "2021-06-07T22:39:02.347841Z"
    },
    "id": "lflZsxOcTIIa"
   },
   "outputs": [],
   "source": [
    "tokenizer = AutoTokenizer.from_pretrained(MODEL)"
   ]
  },
  {
   "cell_type": "markdown",
   "metadata": {
    "id": "abiZ22FqvXv-"
   },
   "source": [
    "## Divide the train data to train and val"
   ]
  },
  {
   "cell_type": "code",
   "execution_count": 78,
   "metadata": {
    "execution": {
     "iopub.execute_input": "2021-06-07T22:39:04.455863Z",
     "iopub.status.busy": "2021-06-07T22:39:04.455472Z",
     "iopub.status.idle": "2021-06-07T22:39:04.486611Z",
     "shell.execute_reply": "2021-06-07T22:39:04.485692Z",
     "shell.execute_reply.started": "2021-06-07T22:39:04.45583Z"
    },
    "id": "dD6XB4VyvXv_"
   },
   "outputs": [],
   "source": [
    "train,val = train_test_split(train_df,test_size=0.1)"
   ]
  },
  {
   "cell_type": "code",
   "execution_count": 79,
   "metadata": {
    "execution": {
     "iopub.execute_input": "2021-06-07T22:39:19.08942Z",
     "iopub.status.busy": "2021-06-07T22:39:19.089065Z",
     "iopub.status.idle": "2021-06-07T22:39:19.911803Z",
     "shell.execute_reply": "2021-06-07T22:39:19.910924Z",
     "shell.execute_reply.started": "2021-06-07T22:39:19.089385Z"
    },
    "id": "VN7Dpa29vXv_"
   },
   "outputs": [],
   "source": [
    "train = train.to_dict('l')\n",
    "val = val.to_dict('l')\n",
    "test = test_df.to_dict('l')"
   ]
  },
  {
   "cell_type": "code",
   "execution_count": 80,
   "metadata": {
    "execution": {
     "iopub.execute_input": "2021-06-07T22:39:21.371837Z",
     "iopub.status.busy": "2021-06-07T22:39:21.371463Z",
     "iopub.status.idle": "2021-06-07T22:40:06.45357Z",
     "shell.execute_reply": "2021-06-07T22:40:06.447026Z",
     "shell.execute_reply.started": "2021-06-07T22:39:21.371806Z"
    },
    "id": "5kAaN0AMUuF0"
   },
   "outputs": [],
   "source": [
    "tokenized_train = prepare_train_features(train)"
   ]
  },
  {
   "cell_type": "code",
   "execution_count": 81,
   "metadata": {
    "execution": {
     "iopub.execute_input": "2021-06-07T22:42:21.086805Z",
     "iopub.status.busy": "2021-06-07T22:42:21.086305Z",
     "iopub.status.idle": "2021-06-07T22:42:26.836804Z",
     "shell.execute_reply": "2021-06-07T22:42:26.834789Z",
     "shell.execute_reply.started": "2021-06-07T22:42:21.086763Z"
    },
    "id": "7FmD_S72vXwA"
   },
   "outputs": [],
   "source": [
    "tokenized_val = prepare_train_features(val)"
   ]
  },
  {
   "cell_type": "code",
   "execution_count": 82,
   "metadata": {
    "execution": {
     "iopub.execute_input": "2021-06-07T22:42:26.838591Z",
     "iopub.status.busy": "2021-06-07T22:42:26.838234Z",
     "iopub.status.idle": "2021-06-07T22:42:51.683848Z",
     "shell.execute_reply": "2021-06-07T22:42:51.681383Z",
     "shell.execute_reply.started": "2021-06-07T22:42:26.838551Z"
    },
    "id": "E49q8AOGvXwB"
   },
   "outputs": [],
   "source": [
    "tokenized_test = prepare_train_features(test)"
   ]
  },
  {
   "cell_type": "code",
   "execution_count": 83,
   "metadata": {
    "colab": {
     "base_uri": "https://localhost:8080/"
    },
    "execution": {
     "iopub.execute_input": "2021-06-07T22:42:56.491556Z",
     "iopub.status.busy": "2021-06-07T22:42:56.491178Z",
     "iopub.status.idle": "2021-06-07T22:42:57.94421Z",
     "shell.execute_reply": "2021-06-07T22:42:57.943305Z",
     "shell.execute_reply.started": "2021-06-07T22:42:56.491521Z"
    },
    "id": "AMemCquBvXwB",
    "outputId": "02fd1422-f32d-451f-a4fa-d2638021c29b"
   },
   "outputs": [
    {
     "data": {
      "text/plain": [
       "50"
      ]
     },
     "execution_count": 83,
     "metadata": {
      "tags": []
     },
     "output_type": "execute_result"
    }
   ],
   "source": [
    "del train,val,test,train_df,test_df\n",
    "gc.collect()"
   ]
  },
  {
   "cell_type": "markdown",
   "metadata": {
    "id": "mLWOmk1Smj7-"
   },
   "source": [
    "## Model Creation"
   ]
  },
  {
   "cell_type": "code",
   "execution_count": 84,
   "metadata": {
    "execution": {
     "iopub.execute_input": "2021-06-07T22:42:59.353651Z",
     "iopub.status.busy": "2021-06-07T22:42:59.35318Z",
     "iopub.status.idle": "2021-06-07T22:42:59.359778Z",
     "shell.execute_reply": "2021-06-07T22:42:59.358457Z",
     "shell.execute_reply.started": "2021-06-07T22:42:59.353616Z"
    },
    "id": "zxYpyCHyTHCK"
   },
   "outputs": [],
   "source": [
    "class SquadDataset(torch.utils.data.Dataset):\n",
    "    def __init__(self, encodings):\n",
    "        self.encodings = encodings\n",
    "\n",
    "    def __getitem__(self, idx):\n",
    "        return {key: torch.tensor(val[idx]) for key, val in self.encodings.items()}\n",
    "\n",
    "    def __len__(self):\n",
    "        return len(self.encodings.input_ids) "
   ]
  },
  {
   "cell_type": "code",
   "execution_count": 85,
   "metadata": {
    "execution": {
     "iopub.execute_input": "2021-06-07T22:43:00.543022Z",
     "iopub.status.busy": "2021-06-07T22:43:00.542643Z",
     "iopub.status.idle": "2021-06-07T22:43:00.547465Z",
     "shell.execute_reply": "2021-06-07T22:43:00.546286Z",
     "shell.execute_reply.started": "2021-06-07T22:43:00.54299Z"
    },
    "id": "8YHJ5hHOvXwG"
   },
   "outputs": [],
   "source": [
    "train_dataset = SquadDataset(tokenized_train)"
   ]
  },
  {
   "cell_type": "code",
   "execution_count": 86,
   "metadata": {
    "execution": {
     "iopub.execute_input": "2021-06-07T22:43:04.322366Z",
     "iopub.status.busy": "2021-06-07T22:43:04.322001Z",
     "iopub.status.idle": "2021-06-07T22:43:04.327016Z",
     "shell.execute_reply": "2021-06-07T22:43:04.326129Z",
     "shell.execute_reply.started": "2021-06-07T22:43:04.322312Z"
    },
    "id": "8vZuUycOvXwG"
   },
   "outputs": [],
   "source": [
    "val_dataset = SquadDataset(tokenized_val)"
   ]
  },
  {
   "cell_type": "code",
   "execution_count": 87,
   "metadata": {
    "execution": {
     "iopub.execute_input": "2021-06-07T22:43:04.748779Z",
     "iopub.status.busy": "2021-06-07T22:43:04.748425Z",
     "iopub.status.idle": "2021-06-07T22:43:04.752841Z",
     "shell.execute_reply": "2021-06-07T22:43:04.751844Z",
     "shell.execute_reply.started": "2021-06-07T22:43:04.748747Z"
    },
    "id": "nA1rJwnRvXwG"
   },
   "outputs": [],
   "source": [
    "test_dataset = SquadDataset(tokenized_test)"
   ]
  },
  {
   "cell_type": "code",
   "execution_count": 88,
   "metadata": {
    "colab": {
     "base_uri": "https://localhost:8080/"
    },
    "execution": {
     "iopub.execute_input": "2021-06-07T22:43:05.344649Z",
     "iopub.status.busy": "2021-06-07T22:43:05.344251Z",
     "iopub.status.idle": "2021-06-07T22:43:06.575652Z",
     "shell.execute_reply": "2021-06-07T22:43:06.574585Z",
     "shell.execute_reply.started": "2021-06-07T22:43:05.344613Z"
    },
    "id": "mqFZ89wgvXwH",
    "outputId": "681b77c1-07da-4de0-fc48-d724ca2cc68c"
   },
   "outputs": [
    {
     "data": {
      "text/plain": [
       "302"
      ]
     },
     "execution_count": 88,
     "metadata": {
      "tags": []
     },
     "output_type": "execute_result"
    }
   ],
   "source": [
    "del tokenized_train,tokenized_val,tokenized_test\n",
    "gc.collect()"
   ]
  },
  {
   "cell_type": "code",
   "execution_count": 89,
   "metadata": {
    "colab": {
     "base_uri": "https://localhost:8080/",
     "height": 170,
     "referenced_widgets": [
      "35fef458b7034714811f16bf7342e158",
      "e0126d54f7234306afdc37a3b7293628",
      "ca4440125a6c4c6a94f4b0add6cedd2a",
      "b63cc4dcc0734e58aa081ff0ef0920f7",
      "d85817175c584af0aa8aaa47eb8663ef",
      "1a95623dcfae41769e93fe2d489509da",
      "24096113119045a08fc1238ee322f9cf",
      "28a564062d1345de85c524a2d38847c2"
     ]
    },
    "execution": {
     "iopub.execute_input": "2021-06-07T22:43:07.685466Z",
     "iopub.status.busy": "2021-06-07T22:43:07.685092Z",
     "iopub.status.idle": "2021-06-07T22:43:10.788261Z",
     "shell.execute_reply": "2021-06-07T22:43:10.787283Z",
     "shell.execute_reply.started": "2021-06-07T22:43:07.685427Z"
    },
    "id": "-Fj2FLeztxjo",
    "outputId": "feebbf56-5879-4851-de50-63d019e8c8a2"
   },
   "outputs": [
    {
     "data": {
      "application/vnd.jupyter.widget-view+json": {
       "model_id": "35fef458b7034714811f16bf7342e158",
       "version_major": 2,
       "version_minor": 0
      },
      "text/plain": [
       "HBox(children=(FloatProgress(value=0.0, description='Downloading', max=331070498.0, style=ProgressStyle(descri…"
      ]
     },
     "metadata": {
      "tags": []
     },
     "output_type": "display_data"
    },
    {
     "name": "stdout",
     "output_type": "stream",
     "text": [
      "\n"
     ]
    },
    {
     "name": "stderr",
     "output_type": "stream",
     "text": [
      "Some weights of the model checkpoint at distilroberta-base were not used when initializing RobertaForQuestionAnswering: ['lm_head.decoder.weight', 'lm_head.dense.weight', 'lm_head.dense.bias', 'lm_head.layer_norm.weight', 'lm_head.bias', 'lm_head.layer_norm.bias']\n",
      "- This IS expected if you are initializing RobertaForQuestionAnswering from the checkpoint of a model trained on another task or with another architecture (e.g. initializing a BertForSequenceClassification model from a BertForPreTraining model).\n",
      "- This IS NOT expected if you are initializing RobertaForQuestionAnswering from the checkpoint of a model that you expect to be exactly identical (initializing a BertForSequenceClassification model from a BertForSequenceClassification model).\n",
      "Some weights of RobertaForQuestionAnswering were not initialized from the model checkpoint at distilroberta-base and are newly initialized: ['qa_outputs.weight', 'qa_outputs.bias']\n",
      "You should probably TRAIN this model on a down-stream task to be able to use it for predictions and inference.\n"
     ]
    }
   ],
   "source": [
    "model = AutoModelForQuestionAnswering.from_pretrained(MODEL)"
   ]
  },
  {
   "cell_type": "code",
   "execution_count": 90,
   "metadata": {
    "execution": {
     "iopub.execute_input": "2021-06-07T22:43:13.727153Z",
     "iopub.status.busy": "2021-06-07T22:43:13.726812Z",
     "iopub.status.idle": "2021-06-07T22:43:13.731419Z",
     "shell.execute_reply": "2021-06-07T22:43:13.730092Z",
     "shell.execute_reply.started": "2021-06-07T22:43:13.72712Z"
    },
    "id": "H6w06Uh6vXwH"
   },
   "outputs": [],
   "source": [
    "from tqdm import tqdm"
   ]
  },
  {
   "cell_type": "code",
   "execution_count": 91,
   "metadata": {
    "execution": {
     "iopub.execute_input": "2021-06-08T02:55:58.161363Z",
     "iopub.status.busy": "2021-06-08T02:55:58.160271Z",
     "iopub.status.idle": "2021-06-08T02:55:58.174775Z",
     "shell.execute_reply": "2021-06-08T02:55:58.173533Z",
     "shell.execute_reply.started": "2021-06-08T02:55:58.161266Z"
    },
    "id": "gFqvLXs6vXwH"
   },
   "outputs": [],
   "source": [
    "def train_fn (data_loader, model, optimizer, device, scheduler):\n",
    "        \n",
    "        model.train()\n",
    "        \n",
    "        final_loss = 0\n",
    "        for data in tqdm(data_loader,total=len(data_loader)):\n",
    "            for k,v in data.items():\n",
    "                data[k] = v.to(device)\n",
    "            optim.zero_grad()\n",
    "            outputs = model(**data)\n",
    "            loss = outputs[0]\n",
    "            loss.backward()\n",
    "            optimizer.step()            \n",
    "            final_loss += loss.item()\n",
    "    \n",
    "        return final_loss / len(data_loader)"
   ]
  },
  {
   "cell_type": "code",
   "execution_count": 92,
   "metadata": {
    "execution": {
     "iopub.execute_input": "2021-06-08T02:55:58.24597Z",
     "iopub.status.busy": "2021-06-08T02:55:58.245572Z",
     "iopub.status.idle": "2021-06-08T02:55:58.259622Z",
     "shell.execute_reply": "2021-06-08T02:55:58.258151Z",
     "shell.execute_reply.started": "2021-06-08T02:55:58.245934Z"
    },
    "id": "2PMHX0r_vXwI"
   },
   "outputs": [],
   "source": [
    "def eval_fn (data_loader, model, device):\n",
    "        model.train()\n",
    "        final_loss = 0\n",
    "        for data in tqdm(data_loader,total=len(data_loader)):\n",
    "            for k,v in data.items():\n",
    "                data[k] = v.to(device)\n",
    "\n",
    "            loss = model(**data)[0]\n",
    "            loss.backward()\n",
    "            final_loss += loss.item()\n",
    "    \n",
    "        return final_loss / len(data_loader)\n"
   ]
  },
  {
   "cell_type": "code",
   "execution_count": null,
   "metadata": {
    "colab": {
     "base_uri": "https://localhost:8080/"
    },
    "execution": {
     "iopub.execute_input": "2021-06-08T02:56:02.337446Z",
     "iopub.status.busy": "2021-06-08T02:56:02.337105Z"
    },
    "id": "jbDOIhK1vXwI",
    "outputId": "1922cdfa-ebf7-45ab-cda7-18ccea24e516"
   },
   "outputs": [
    {
     "name": "stderr",
     "output_type": "stream",
     "text": [
      "100%|██████████| 3944/3944 [57:29<00:00,  1.14it/s]\n",
      "  1%|          | 3/439 [00:02<06:10,  1.18it/s]"
     ]
    }
   ],
   "source": [
    "tb = SummaryWriter()\n",
    "\n",
    "device = torch.device('cuda')\n",
    "model.to(device)\n",
    "\n",
    "train_loader = DataLoader(train_dataset, batch_size=BATCH_SIZE, shuffle=True)\n",
    "val_loader = DataLoader(val_dataset, batch_size=BATCH_SIZE, shuffle=True)\n",
    "\n",
    "optim = AdamW(model.parameters(), lr=5e-5)\n",
    "num_train_steps = int(len(train_dataset) / BATCH_SIZE * EPOCHS)\n",
    "\n",
    "scheduler = get_linear_schedule_with_warmup(\n",
    "    optim, num_warmup_steps=0, num_training_steps=num_train_steps\n",
    ")\n",
    "\n",
    "best_loss = np.inf\n",
    "for epoch in range(EPOCHS):\n",
    "    train_loss = train_fn(train_loader, model, optim, device, scheduler)\n",
    "    tb.add_scalar('Traning Loss',train_loss,epoch,test_loss = eval_fn(val_loader, model, device))\n",
    "    tb.add_scalar('Validation Loss',test_loss,epoch)\n",
    "    \n",
    "    print(f\"Train Loss = {train_loss} Valid Loss = {test_loss}\")\n",
    "    if test_loss < best_loss:\n",
    "        torch.save(model.state_dict(),'model.h5')\n",
    "        best_loss = test_loss\n",
    "    \n",
    "\n",
    "print('Finished Training')\n",
    "model.eval()\n",
    "tb.close() "
   ]
  },
  {
   "cell_type": "code",
   "execution_count": null,
   "metadata": {
    "execution": {
     "iopub.execute_input": "2021-06-08T00:11:31.726741Z",
     "iopub.status.busy": "2021-06-08T00:11:31.726398Z",
     "iopub.status.idle": "2021-06-08T00:11:31.736381Z",
     "shell.execute_reply": "2021-06-08T00:11:31.735554Z",
     "shell.execute_reply.started": "2021-06-08T00:11:31.726708Z"
    },
    "id": "lb7iFC-AvXwJ"
   },
   "outputs": [],
   "source": [
    "%load_ext tensorboard"
   ]
  },
  {
   "cell_type": "code",
   "execution_count": null,
   "metadata": {
    "execution": {
     "iopub.execute_input": "2021-06-08T00:15:00.386831Z",
     "iopub.status.busy": "2021-06-08T00:15:00.386378Z",
     "iopub.status.idle": "2021-06-08T00:15:01.35007Z",
     "shell.execute_reply": "2021-06-08T00:15:01.348721Z",
     "shell.execute_reply.started": "2021-06-08T00:15:00.386785Z"
    },
    "id": "BWmBL2nSvXwJ"
   },
   "outputs": [],
   "source": [
    "%tensorboard --logdir ./runs"
   ]
  },
  {
   "cell_type": "code",
   "execution_count": null,
   "metadata": {
    "id": "cN2yvEwjvXwJ"
   },
   "outputs": [],
   "source": [
    "del train_dataset"
   ]
  },
  {
   "cell_type": "code",
   "execution_count": null,
   "metadata": {
    "execution": {
     "iopub.execute_input": "2021-05-30T15:34:54.998102Z",
     "iopub.status.busy": "2021-05-30T15:34:54.997779Z",
     "iopub.status.idle": "2021-05-30T15:34:55.98824Z",
     "shell.execute_reply": "2021-05-30T15:34:55.987393Z",
     "shell.execute_reply.started": "2021-05-30T15:34:54.998071Z"
    },
    "id": "ohTlYx7IvXwK"
   },
   "outputs": [],
   "source": [
    "torch.save(model,'model.h5')"
   ]
  },
  {
   "cell_type": "markdown",
   "metadata": {
    "id": "gY8l19neygfv"
   },
   "source": [
    "# Model Evaluation"
   ]
  },
  {
   "cell_type": "code",
   "execution_count": 8,
   "metadata": {
    "colab": {
     "base_uri": "https://localhost:8080/"
    },
    "id": "bwFETJCkdx9b",
    "outputId": "6b37bf07-cb92-4f02-c6b1-73c9829a766f"
   },
   "outputs": [
    {
     "name": "stdout",
     "output_type": "stream",
     "text": [
      "[nltk_data] Downloading package punkt to /root/nltk_data...\n",
      "[nltk_data]   Unzipping tokenizers/punkt.zip.\n"
     ]
    },
    {
     "data": {
      "text/plain": [
       "True"
      ]
     },
     "execution_count": 8,
     "metadata": {
      "tags": []
     },
     "output_type": "execute_result"
    }
   ],
   "source": [
    "from nltk.tokenize import word_tokenize\n",
    "import nltk\n",
    "nltk.download('punkt')"
   ]
  },
  {
   "cell_type": "code",
   "execution_count": 9,
   "metadata": {
    "id": "iiORKdIYdib7"
   },
   "outputs": [],
   "source": [
    "def normalize(sentence):\n",
    "\n",
    "    tokens =word_tokenize(sentence)\n",
    "    new_words= [word for word in tokens if word. isalnum()]\n",
    "\n",
    "    return new_words\n",
    "  "
   ]
  },
  {
   "cell_type": "code",
   "execution_count": 10,
   "metadata": {
    "id": "jXOl-eCOhFgT"
   },
   "outputs": [],
   "source": [
    "def calc_f1 (predAns, trueAns):\n",
    "  norm_pred = normalize(predAns)\n",
    "  norm_trueAns = normalize(trueAns)\n",
    "  lb = LabelEncoder()\n",
    "  lb.fit(norm_trueAns)\n",
    "  y_true = lb.transform(norm_trueAns).tolist()\n",
    "\n",
    "  y_pred = [-1 if s not in lb.classes_ else lb.transform([s])[0] for s in norm_pred]\n",
    "\n",
    "  if(len(y_true) > len(y_pred)):\n",
    "\n",
    "    y_pred = y_pred + ([-1] * (len(y_true) - len(y_pred)))\n",
    "  elif (len(y_true) < len(y_pred)):\n",
    "    y_true = y_true + ([-2] * (len(y_pred) - len(y_true)))\n",
    "  f1 = f1_score(y_true,y_pred,average='macro')\n",
    "  return f1\n",
    "  "
   ]
  },
  {
   "cell_type": "code",
   "execution_count": 11,
   "metadata": {
    "id": "Nr3YOhBFl5cU"
   },
   "outputs": [],
   "source": [
    "def calc_EM (predAns, trueAns):\n",
    "  norm_pred = normalize(predAns)\n",
    "  norm_trueAns = normalize(trueAns)\n",
    "  if norm_pred == norm_trueAns:\n",
    "    return 1\n",
    "  return 0"
   ]
  },
  {
   "cell_type": "code",
   "execution_count": 12,
   "metadata": {
    "colab": {
     "base_uri": "https://localhost:8080/"
    },
    "id": "HxAOvlc3wFtN",
    "outputId": "c86aeafe-1e85-433a-8b8e-a204fc19fe1e"
   },
   "outputs": [
    {
     "name": "stdout",
     "output_type": "stream",
     "text": [
      "Downloading...\n",
      "From: https://drive.google.com/uc?id=1oaW7mUm_6Tr-GfaTE4oRzuAePAIYmHyV\n",
      "To: /content/model.h5\n",
      "326MB [00:05, 60.4MB/s]\n"
     ]
    }
   ],
   "source": [
    "!gdown --id 1oaW7mUm_6Tr-GfaTE4oRzuAePAIYmHyV"
   ]
  },
  {
   "cell_type": "code",
   "execution_count": 13,
   "metadata": {
    "id": "J86TIl5owunU"
   },
   "outputs": [],
   "source": [
    "import torch\n",
    "qaModel = torch.load('/content/model.h5')"
   ]
  },
  {
   "cell_type": "code",
   "execution_count": 14,
   "metadata": {
    "execution": {
     "iopub.execute_input": "2021-05-30T15:35:54.595935Z",
     "iopub.status.busy": "2021-05-30T15:35:54.595568Z",
     "iopub.status.idle": "2021-05-30T15:35:54.607868Z",
     "shell.execute_reply": "2021-05-30T15:35:54.607066Z",
     "shell.execute_reply.started": "2021-05-30T15:35:54.595903Z"
    },
    "id": "4SlUu6juvXwM"
   },
   "outputs": [],
   "source": [
    "def answer_question(question, context,model):\n",
    "\n",
    "    inputs = tokenizer(question.strip(), context.strip(),max_length=512,padding=True,truncation='only_second', add_special_tokens=True, return_tensors=\"pt\",return_offsets_mapping=True)\n",
    "    offset_mapping = inputs.pop('offset_mapping').tolist()[0]\n",
    "    inputs = inputs.to('cuda')\n",
    "    input_ids = inputs[\"input_ids\"].tolist()[0]\n",
    "    # print(inputs)\n",
    "    outputs = model(**inputs) \n",
    "    answer_start_scores = outputs.start_logits \n",
    "    answer_end_scores = outputs.end_logits \n",
    "    answer_start = torch.argmax(answer_start_scores)\n",
    "    # Get the most likely beginning of answer with the argmax of the score\n",
    "    answer_end = torch.argmax(answer_end_scores) + 1\n",
    "    # Get the most likely end of answer with the argmax of the score\n",
    "    predict_index = offset_mapping[answer_start:answer_end]\n",
    "    # print('offset:' ,predict_index)\n",
    "    # print(predict_index)\n",
    "   \n",
    "\n",
    "\n",
    "    answer = tokenizer.convert_tokens_to_string(tokenizer.convert_ids_to_tokens(input_ids[answer_start:answer_end]))\n",
    "    # print(tokenizer.convert_ids_to_tokens(input_ids[answer_start:answer_end]))\n",
    "    if (len(predict_index) == 0 ):\n",
    "      start_end = [0,0]\n",
    "    else:\n",
    "      start_end = [predict_index[0][0] , predict_index[-1][-1]]\n",
    "\n",
    "\n",
    "    return answer , start_end\n",
    "\n"
   ]
  },
  {
   "cell_type": "code",
   "execution_count": 24,
   "metadata": {
    "id": "4nE4yAgA8Ovs"
   },
   "outputs": [],
   "source": [
    "test_df.drop_duplicates(inplace=True)"
   ]
  },
  {
   "cell_type": "code",
   "execution_count": 25,
   "metadata": {
    "colab": {
     "base_uri": "https://localhost:8080/",
     "height": 416
    },
    "id": "RG89f8X_DIcw",
    "outputId": "227da486-c771-46db-84b2-a45337f1ed5b"
   },
   "outputs": [
    {
     "data": {
      "text/html": [
       "<div>\n",
       "<style scoped>\n",
       "    .dataframe tbody tr th:only-of-type {\n",
       "        vertical-align: middle;\n",
       "    }\n",
       "\n",
       "    .dataframe tbody tr th {\n",
       "        vertical-align: top;\n",
       "    }\n",
       "\n",
       "    .dataframe thead th {\n",
       "        text-align: right;\n",
       "    }\n",
       "</style>\n",
       "<table border=\"1\" class=\"dataframe\">\n",
       "  <thead>\n",
       "    <tr style=\"text-align: right;\">\n",
       "      <th></th>\n",
       "      <th>question</th>\n",
       "      <th>context</th>\n",
       "      <th>answer_text</th>\n",
       "      <th>answer_start</th>\n",
       "      <th>answer_end</th>\n",
       "    </tr>\n",
       "  </thead>\n",
       "  <tbody>\n",
       "    <tr>\n",
       "      <th>0</th>\n",
       "      <td>Which NFL team represented the AFC at Super Bo...</td>\n",
       "      <td>Super Bowl 50 was an American football game to...</td>\n",
       "      <td>Denver Broncos</td>\n",
       "      <td>177</td>\n",
       "      <td>191</td>\n",
       "    </tr>\n",
       "    <tr>\n",
       "      <th>3</th>\n",
       "      <td>Which NFL team represented the NFC at Super Bo...</td>\n",
       "      <td>Super Bowl 50 was an American football game to...</td>\n",
       "      <td>Carolina Panthers</td>\n",
       "      <td>249</td>\n",
       "      <td>266</td>\n",
       "    </tr>\n",
       "    <tr>\n",
       "      <th>6</th>\n",
       "      <td>Where did Super Bowl 50 take place?</td>\n",
       "      <td>Super Bowl 50 was an American football game to...</td>\n",
       "      <td>Santa Clara, California</td>\n",
       "      <td>403</td>\n",
       "      <td>426</td>\n",
       "    </tr>\n",
       "    <tr>\n",
       "      <th>7</th>\n",
       "      <td>Where did Super Bowl 50 take place?</td>\n",
       "      <td>Super Bowl 50 was an American football game to...</td>\n",
       "      <td>Levi's Stadium</td>\n",
       "      <td>355</td>\n",
       "      <td>369</td>\n",
       "    </tr>\n",
       "    <tr>\n",
       "      <th>8</th>\n",
       "      <td>Where did Super Bowl 50 take place?</td>\n",
       "      <td>Super Bowl 50 was an American football game to...</td>\n",
       "      <td>Levi's Stadium in the San Francisco Bay Area a...</td>\n",
       "      <td>355</td>\n",
       "      <td>427</td>\n",
       "    </tr>\n",
       "    <tr>\n",
       "      <th>...</th>\n",
       "      <td>...</td>\n",
       "      <td>...</td>\n",
       "      <td>...</td>\n",
       "      <td>...</td>\n",
       "      <td>...</td>\n",
       "    </tr>\n",
       "    <tr>\n",
       "      <th>34711</th>\n",
       "      <td>What is a very seldom used unit of mass in the...</td>\n",
       "      <td>The pound-force has a metric counterpart, less...</td>\n",
       "      <td>slug</td>\n",
       "      <td>274</td>\n",
       "      <td>278</td>\n",
       "    </tr>\n",
       "    <tr>\n",
       "      <th>34712</th>\n",
       "      <td>What is a very seldom used unit of mass in the...</td>\n",
       "      <td>The pound-force has a metric counterpart, less...</td>\n",
       "      <td>metric slug</td>\n",
       "      <td>267</td>\n",
       "      <td>278</td>\n",
       "    </tr>\n",
       "    <tr>\n",
       "      <th>34715</th>\n",
       "      <td>What is a very seldom used unit of mass in the...</td>\n",
       "      <td>The pound-force has a metric counterpart, less...</td>\n",
       "      <td>the metric slug</td>\n",
       "      <td>263</td>\n",
       "      <td>278</td>\n",
       "    </tr>\n",
       "    <tr>\n",
       "      <th>34716</th>\n",
       "      <td>What seldom used term of a unit of force equal...</td>\n",
       "      <td>The pound-force has a metric counterpart, less...</td>\n",
       "      <td>kip</td>\n",
       "      <td>712</td>\n",
       "      <td>715</td>\n",
       "    </tr>\n",
       "    <tr>\n",
       "      <th>34721</th>\n",
       "      <td>What is the seldom used force unit equal to on...</td>\n",
       "      <td>The pound-force has a metric counterpart, less...</td>\n",
       "      <td>sthène</td>\n",
       "      <td>665</td>\n",
       "      <td>671</td>\n",
       "    </tr>\n",
       "  </tbody>\n",
       "</table>\n",
       "<p>18162 rows × 5 columns</p>\n",
       "</div>"
      ],
      "text/plain": [
       "                                                question  ... answer_end\n",
       "0      Which NFL team represented the AFC at Super Bo...  ...        191\n",
       "3      Which NFL team represented the NFC at Super Bo...  ...        266\n",
       "6                    Where did Super Bowl 50 take place?  ...        426\n",
       "7                    Where did Super Bowl 50 take place?  ...        369\n",
       "8                    Where did Super Bowl 50 take place?  ...        427\n",
       "...                                                  ...  ...        ...\n",
       "34711  What is a very seldom used unit of mass in the...  ...        278\n",
       "34712  What is a very seldom used unit of mass in the...  ...        278\n",
       "34715  What is a very seldom used unit of mass in the...  ...        278\n",
       "34716  What seldom used term of a unit of force equal...  ...        715\n",
       "34721  What is the seldom used force unit equal to on...  ...        671\n",
       "\n",
       "[18162 rows x 5 columns]"
      ]
     },
     "execution_count": 25,
     "metadata": {
      "tags": []
     },
     "output_type": "execute_result"
    }
   ],
   "source": [
    "test_df"
   ]
  },
  {
   "cell_type": "code",
   "execution_count": 33,
   "metadata": {
    "colab": {
     "base_uri": "https://localhost:8080/"
    },
    "id": "-W2iTtnl8SdA",
    "outputId": "6dcb97e9-23c8-4cc8-cbfe-435c9ba8a736"
   },
   "outputs": [
    {
     "name": "stdout",
     "output_type": "stream",
     "text": [
      "true answer:  Denver Broncos\n",
      "F1 Score: 1.0\n",
      "Exact Match: 1\n",
      "true answer:  Carolina Panthers\n",
      "F1 Score: 0.0\n",
      "Exact Match: 0\n",
      "true answer:  Santa Clara, California\n",
      "F1 Score: 0.0\n",
      "Exact Match: 0\n",
      "true answer:  Levi's Stadium\n",
      "F1 Score: 0.5\n",
      "Exact Match: 0\n",
      "true answer:  Levi's Stadium in the San Francisco Bay Area at Santa Clara, California.\n",
      "F1 Score: 1.0\n",
      "Exact Match: 1\n",
      "true answer:  Denver Broncos\n",
      "F1 Score: 1.0\n",
      "Exact Match: 1\n",
      "true answer:  gold\n",
      "F1 Score: 1.0\n",
      "Exact Match: 1\n",
      "true answer:  gold\n",
      "F1 Score: 1.0\n",
      "Exact Match: 1\n",
      "true answer:  \"golden anniversary\"\n",
      "F1 Score: 1.0\n",
      "Exact Match: 1\n",
      "true answer:  gold-themed\n",
      "F1 Score: 0.0\n",
      "Exact Match: 0\n",
      "true answer:  \"golden anniversary\n",
      "F1 Score: 1.0\n",
      "Exact Match: 1\n",
      "true answer:  February 7, 2016\n",
      "F1 Score: 1.0\n",
      "Exact Match: 1\n",
      "true answer:  February 7\n",
      "F1 Score: 0.5\n",
      "Exact Match: 0\n",
      "true answer:  American Football Conference\n",
      "F1 Score: 1.0\n",
      "Exact Match: 1\n",
      "true answer:  gold\n",
      "F1 Score: 0.0\n",
      "Exact Match: 0\n",
      "true answer:  American Football Conference\n",
      "F1 Score: 1.0\n",
      "Exact Match: 1\n",
      "true answer:  February 7, 2016\n",
      "F1 Score: 1.0\n",
      "Exact Match: 1\n",
      "true answer:  February 7\n",
      "F1 Score: 0.5\n",
      "Exact Match: 0\n",
      "true answer:  Denver Broncos\n",
      "F1 Score: 1.0\n",
      "Exact Match: 1\n",
      "true answer:  Levi's Stadium\n",
      "F1 Score: 1.0\n",
      "Exact Match: 1\n"
     ]
    }
   ],
   "source": [
    "f1_scores = []\n",
    "em_scores = []\n",
    "for i in range(20):\n",
    "  question = test_df.iloc[i,0]\n",
    "  context = test_df.iloc[i,1]\n",
    "  true_start = test_df.iloc[i,3]\n",
    "  true_end = test_df.iloc[i,4]\n",
    "  true_answer = test_df.iloc[i,2]\n",
    "  # print(true_start,true_end)\n",
    "  answer,start_end = answer_question(question,context,qaModel)\n",
    "  # f1 = calc_f1_score(true_start=true_start,true_end=true_end,pred_stat=start_end[0],pred_end=start_end[1])\n",
    "  f1 = calc_f1(answer,true_answer)\n",
    "\n",
    "  em = calc_EM(answer,true_answer)\n",
    "  print('true answer: ',true_answer)\n",
    "  print('F1 Score:' ,f1)\n",
    "  print('Exact Match:',em)\n",
    "  f1_scores.append(f1)\n",
    "  em_scores.append(em)"
   ]
  },
  {
   "cell_type": "code",
   "execution_count": 34,
   "metadata": {
    "colab": {
     "base_uri": "https://localhost:8080/"
    },
    "id": "Axs9yg_2BNlL",
    "outputId": "0b8302ad-ebe9-4784-d3c9-f03d88bd731e"
   },
   "outputs": [
    {
     "data": {
      "text/plain": [
       "0.725"
      ]
     },
     "execution_count": 34,
     "metadata": {
      "tags": []
     },
     "output_type": "execute_result"
    }
   ],
   "source": [
    "np.mean(f1_scores)"
   ]
  },
  {
   "cell_type": "code",
   "execution_count": 35,
   "metadata": {
    "colab": {
     "base_uri": "https://localhost:8080/"
    },
    "id": "CIJGCSYQFUEk",
    "outputId": "4e9b0991-29f0-4e1a-cb13-5f973440fe32"
   },
   "outputs": [
    {
     "data": {
      "text/plain": [
       "0.65"
      ]
     },
     "execution_count": 35,
     "metadata": {
      "tags": []
     },
     "output_type": "execute_result"
    }
   ],
   "source": [
    "np.mean(em_scores)"
   ]
  },
  {
   "cell_type": "code",
   "execution_count": 38,
   "metadata": {
    "id": "cGvMiELdmgpz"
   },
   "outputs": [],
   "source": [
    "f1_scores = []\n",
    "em_scores = []\n",
    "for i in range(len(test_df)-1):\n",
    "  question = test_df.iloc[i,0]\n",
    "  context = test_df.iloc[i,1]\n",
    "  true_start = test_df.iloc[i,3]\n",
    "  true_end = test_df.iloc[i,4]\n",
    "  true_answer = test_df.iloc[i,2]\n",
    "  # print(true_start,true_end)\n",
    "  answer,start_end = answer_question(question,context,qaModel)\n",
    "  # f1 = calc_f1_score(true_start=true_start,true_end=true_end,pred_stat=start_end[0],pred_end=start_end[1])\n",
    "  f1 = calc_f1(answer,true_answer)\n",
    "\n",
    "  em = calc_EM(answer,true_answer)\n",
    "  f1_scores.append(f1)\n",
    "  em_scores.append(em)"
   ]
  },
  {
   "cell_type": "code",
   "execution_count": 41,
   "metadata": {
    "colab": {
     "base_uri": "https://localhost:8080/"
    },
    "id": "JTWGreZAMTmK",
    "outputId": "465bf371-986f-43fb-94ff-ccdba475e3d3"
   },
   "outputs": [
    {
     "data": {
      "text/plain": [
       "0.47981939320522"
      ]
     },
     "execution_count": 41,
     "metadata": {
      "tags": []
     },
     "output_type": "execute_result"
    }
   ],
   "source": [
    "np.mean(em_scores)"
   ]
  },
  {
   "cell_type": "code",
   "execution_count": 65,
   "metadata": {
    "id": "dkSpSNkkMpwz"
   },
   "outputs": [],
   "source": [
    "scores =[]\n",
    "for f in f1_scores:\n",
    "  if ~np.isnan(f):\n",
    "    scores.append(f)"
   ]
  },
  {
   "cell_type": "code",
   "execution_count": 66,
   "metadata": {
    "colab": {
     "base_uri": "https://localhost:8080/"
    },
    "id": "UNdhQaOFOWuN",
    "outputId": "dca05020-eab4-4eb3-cf27-2e0bb285e0e0"
   },
   "outputs": [
    {
     "data": {
      "text/plain": [
       "0.5108562907964285"
      ]
     },
     "execution_count": 66,
     "metadata": {
      "tags": []
     },
     "output_type": "execute_result"
    }
   ],
   "source": [
    "np.mean(scores)"
   ]
  }
 ],
 "metadata": {
  "accelerator": "GPU",
  "colab": {
   "name": "qa-model-sqaud1-1.ipynb",
   "provenance": []
  },
  "kernelspec": {
   "display_name": "Python 3",
   "language": "python",
   "name": "python3"
  },
  "language_info": {
   "codemirror_mode": {
    "name": "ipython",
    "version": 3
   },
   "file_extension": ".py",
   "mimetype": "text/x-python",
   "name": "python",
   "nbconvert_exporter": "python",
   "pygments_lexer": "ipython3",
   "version": "3.7.4"
  },
  "widgets": {
   "application/vnd.jupyter.widget-state+json": {
    "1a95623dcfae41769e93fe2d489509da": {
     "model_module": "@jupyter-widgets/base",
     "model_name": "LayoutModel",
     "state": {
      "_model_module": "@jupyter-widgets/base",
      "_model_module_version": "1.2.0",
      "_model_name": "LayoutModel",
      "_view_count": null,
      "_view_module": "@jupyter-widgets/base",
      "_view_module_version": "1.2.0",
      "_view_name": "LayoutView",
      "align_content": null,
      "align_items": null,
      "align_self": null,
      "border": null,
      "bottom": null,
      "display": null,
      "flex": null,
      "flex_flow": null,
      "grid_area": null,
      "grid_auto_columns": null,
      "grid_auto_flow": null,
      "grid_auto_rows": null,
      "grid_column": null,
      "grid_gap": null,
      "grid_row": null,
      "grid_template_areas": null,
      "grid_template_columns": null,
      "grid_template_rows": null,
      "height": null,
      "justify_content": null,
      "justify_items": null,
      "left": null,
      "margin": null,
      "max_height": null,
      "max_width": null,
      "min_height": null,
      "min_width": null,
      "object_fit": null,
      "object_position": null,
      "order": null,
      "overflow": null,
      "overflow_x": null,
      "overflow_y": null,
      "padding": null,
      "right": null,
      "top": null,
      "visibility": null,
      "width": null
     }
    },
    "24096113119045a08fc1238ee322f9cf": {
     "model_module": "@jupyter-widgets/controls",
     "model_name": "DescriptionStyleModel",
     "state": {
      "_model_module": "@jupyter-widgets/controls",
      "_model_module_version": "1.5.0",
      "_model_name": "DescriptionStyleModel",
      "_view_count": null,
      "_view_module": "@jupyter-widgets/base",
      "_view_module_version": "1.2.0",
      "_view_name": "StyleView",
      "description_width": ""
     }
    },
    "28a564062d1345de85c524a2d38847c2": {
     "model_module": "@jupyter-widgets/base",
     "model_name": "LayoutModel",
     "state": {
      "_model_module": "@jupyter-widgets/base",
      "_model_module_version": "1.2.0",
      "_model_name": "LayoutModel",
      "_view_count": null,
      "_view_module": "@jupyter-widgets/base",
      "_view_module_version": "1.2.0",
      "_view_name": "LayoutView",
      "align_content": null,
      "align_items": null,
      "align_self": null,
      "border": null,
      "bottom": null,
      "display": null,
      "flex": null,
      "flex_flow": null,
      "grid_area": null,
      "grid_auto_columns": null,
      "grid_auto_flow": null,
      "grid_auto_rows": null,
      "grid_column": null,
      "grid_gap": null,
      "grid_row": null,
      "grid_template_areas": null,
      "grid_template_columns": null,
      "grid_template_rows": null,
      "height": null,
      "justify_content": null,
      "justify_items": null,
      "left": null,
      "margin": null,
      "max_height": null,
      "max_width": null,
      "min_height": null,
      "min_width": null,
      "object_fit": null,
      "object_position": null,
      "order": null,
      "overflow": null,
      "overflow_x": null,
      "overflow_y": null,
      "padding": null,
      "right": null,
      "top": null,
      "visibility": null,
      "width": null
     }
    },
    "35fef458b7034714811f16bf7342e158": {
     "model_module": "@jupyter-widgets/controls",
     "model_name": "HBoxModel",
     "state": {
      "_dom_classes": [],
      "_model_module": "@jupyter-widgets/controls",
      "_model_module_version": "1.5.0",
      "_model_name": "HBoxModel",
      "_view_count": null,
      "_view_module": "@jupyter-widgets/controls",
      "_view_module_version": "1.5.0",
      "_view_name": "HBoxView",
      "box_style": "",
      "children": [
       "IPY_MODEL_ca4440125a6c4c6a94f4b0add6cedd2a",
       "IPY_MODEL_b63cc4dcc0734e58aa081ff0ef0920f7"
      ],
      "layout": "IPY_MODEL_e0126d54f7234306afdc37a3b7293628"
     }
    },
    "b63cc4dcc0734e58aa081ff0ef0920f7": {
     "model_module": "@jupyter-widgets/controls",
     "model_name": "HTMLModel",
     "state": {
      "_dom_classes": [],
      "_model_module": "@jupyter-widgets/controls",
      "_model_module_version": "1.5.0",
      "_model_name": "HTMLModel",
      "_view_count": null,
      "_view_module": "@jupyter-widgets/controls",
      "_view_module_version": "1.5.0",
      "_view_name": "HTMLView",
      "description": "",
      "description_tooltip": null,
      "layout": "IPY_MODEL_28a564062d1345de85c524a2d38847c2",
      "placeholder": "​",
      "style": "IPY_MODEL_24096113119045a08fc1238ee322f9cf",
      "value": " 331M/331M [00:07&lt;00:00, 43.0MB/s]"
     }
    },
    "ca4440125a6c4c6a94f4b0add6cedd2a": {
     "model_module": "@jupyter-widgets/controls",
     "model_name": "FloatProgressModel",
     "state": {
      "_dom_classes": [],
      "_model_module": "@jupyter-widgets/controls",
      "_model_module_version": "1.5.0",
      "_model_name": "FloatProgressModel",
      "_view_count": null,
      "_view_module": "@jupyter-widgets/controls",
      "_view_module_version": "1.5.0",
      "_view_name": "ProgressView",
      "bar_style": "success",
      "description": "Downloading: 100%",
      "description_tooltip": null,
      "layout": "IPY_MODEL_1a95623dcfae41769e93fe2d489509da",
      "max": 331070498,
      "min": 0,
      "orientation": "horizontal",
      "style": "IPY_MODEL_d85817175c584af0aa8aaa47eb8663ef",
      "value": 331070498
     }
    },
    "d85817175c584af0aa8aaa47eb8663ef": {
     "model_module": "@jupyter-widgets/controls",
     "model_name": "ProgressStyleModel",
     "state": {
      "_model_module": "@jupyter-widgets/controls",
      "_model_module_version": "1.5.0",
      "_model_name": "ProgressStyleModel",
      "_view_count": null,
      "_view_module": "@jupyter-widgets/base",
      "_view_module_version": "1.2.0",
      "_view_name": "StyleView",
      "bar_color": null,
      "description_width": "initial"
     }
    },
    "e0126d54f7234306afdc37a3b7293628": {
     "model_module": "@jupyter-widgets/base",
     "model_name": "LayoutModel",
     "state": {
      "_model_module": "@jupyter-widgets/base",
      "_model_module_version": "1.2.0",
      "_model_name": "LayoutModel",
      "_view_count": null,
      "_view_module": "@jupyter-widgets/base",
      "_view_module_version": "1.2.0",
      "_view_name": "LayoutView",
      "align_content": null,
      "align_items": null,
      "align_self": null,
      "border": null,
      "bottom": null,
      "display": null,
      "flex": null,
      "flex_flow": null,
      "grid_area": null,
      "grid_auto_columns": null,
      "grid_auto_flow": null,
      "grid_auto_rows": null,
      "grid_column": null,
      "grid_gap": null,
      "grid_row": null,
      "grid_template_areas": null,
      "grid_template_columns": null,
      "grid_template_rows": null,
      "height": null,
      "justify_content": null,
      "justify_items": null,
      "left": null,
      "margin": null,
      "max_height": null,
      "max_width": null,
      "min_height": null,
      "min_width": null,
      "object_fit": null,
      "object_position": null,
      "order": null,
      "overflow": null,
      "overflow_x": null,
      "overflow_y": null,
      "padding": null,
      "right": null,
      "top": null,
      "visibility": null,
      "width": null
     }
    }
   }
  }
 },
 "nbformat": 4,
 "nbformat_minor": 1
}
